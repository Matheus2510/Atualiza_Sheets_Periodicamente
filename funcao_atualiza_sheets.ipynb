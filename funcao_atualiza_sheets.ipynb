{
  "nbformat": 4,
  "nbformat_minor": 0,
  "metadata": {
    "colab": {
      "provenance": []
    },
    "kernelspec": {
      "name": "python3",
      "display_name": "Python 3"
    },
    "language_info": {
      "name": "python"
    }
  },
  "cells": [
    {
      "cell_type": "markdown",
      "source": [
        "# Dados fictícios"
      ],
      "metadata": {
        "id": "jt2LA4WxVCeM"
      }
    },
    {
      "cell_type": "code",
      "execution_count": null,
      "metadata": {
        "id": "K_FZPsPZDfbo"
      },
      "outputs": [],
      "source": [
        "#Importando ferramentas básicas para construção de dados fictícios\n",
        "import pandas as pd\n",
        "import numpy as np\n",
        "\n",
        "#Cria dados fictícios para exemplificar funcionamento do código\n",
        "datas_ficticias = ['2022-08-01', '2022-08-01','2022-08-01','2022-08-01','2022-08-01','2022-08-01','2022-08-01','2022-08-02',\n",
        "                   '2022-08-02','2022-08-02','2022-08-02','2022-08-02','2022-08-03','2022-08-03','2022-08-03','2022-08-03']\n",
        "\n",
        "codigos_ficticios = ['cod01','cod98','cod84','cod34','cod22','cod17','cod68','cod09','cod53','cod33','cod41','cod26','cod89',\n",
        "                     'cod93','cod06','cod67']\n",
        "\n",
        "valores_ficticios = [100.34, 56.50, 90.55, 567.00, 1000.23, 123.32, 903.58, 42.00, 800.00, 800.00, 42.00, 350.00, 230.50,\n",
        "                     202.10, 105.00, 300.00]\n",
        "\n",
        "dados_ficticios = pd.DataFrame({'Data':datas_ficticias, 'Código':codigos_ficticios,\n",
        "                                'Valor':valores_ficticios})\n",
        "\n",
        "#Exibe dados fictícios\n",
        "dados_ficticios"
      ]
    },
    {
      "cell_type": "markdown",
      "source": [
        "# Imports"
      ],
      "metadata": {
        "id": "OVjoOgWoVOF0"
      }
    },
    {
      "cell_type": "code",
      "source": [
        "#Importa recursos do Colab para troca de recursos com o Drive\n",
        "from google.colab import auth\n",
        "auth.authenticate_user()\n",
        "\n",
        "import gspread\n",
        "from google.auth import default\n",
        "creds, _ = default()\n",
        "\n",
        "gc = gspread.authorize(creds)"
      ],
      "metadata": {
        "id": "1eSi6uWlOkIN"
      },
      "execution_count": null,
      "outputs": []
    },
    {
      "cell_type": "markdown",
      "source": [
        "# Função atualiza_sheets"
      ],
      "metadata": {
        "id": "LXnvGDoIXbXH"
      }
    },
    {
      "cell_type": "code",
      "source": [
        "#Função para editar sheets - apagando os dados do dia do relatório gerado e atualizando-os\n",
        "def atualiza_sheets(sheet, worksheet, df, coluna_periodo, periodo_str):\n",
        "\n",
        "  #Define a planilha (sheet) a ser atualizada\n",
        "  sheets = gc.open(sheet)\n",
        "  #Define a aba (worksheet) a ser atualizada\n",
        "  sheets_page = sheets.worksheet(worksheet)\n",
        "  #Cria um dataframe com os dados já existentes da aba a ser atualizada\n",
        "  df_worksheet = pd.DataFrame(sheets_page.get_all_records())\n",
        "  #Filtra o dataframe por períodos diferentes do periodo_str\n",
        "  novo_df_worksheet = df_worksheet[df_worksheet[coluna_periodo] != periodo_str]\n",
        "  #Limpa os dados da aba selecionada\n",
        "  sheets_page.clear()\n",
        "  #Concatena o dataframe filtrado da aba selecionada com o dataframe do dia em questão\n",
        "  novo_df_worksheet = pd.concat([novo_df_worksheet, df])\n",
        "  #Preenche os NaN com vazios (arquivos json não comportam dados nesse formato)\n",
        "  novo_df_worksheet = novo_df_worksheet.fillna('')\n",
        "  #Classifica o dataframe resultante pela coluna do período\n",
        "  novo_df_worksheet.sort_values(by = coluna_periodo, ascending = True, inplace = True)\n",
        "  #Atualiza a aba selecionada com o DataFrame resultante\n",
        "  sheets_page.update([novo_df_worksheet.columns.values.tolist()] + novo_df_worksheet.values.tolist())"
      ],
      "metadata": {
        "id": "iVwkCoAkXixt"
      },
      "execution_count": null,
      "outputs": []
    },
    {
      "cell_type": "markdown",
      "source": [
        "# Execução"
      ],
      "metadata": {
        "id": "mhxX7HDeY-ip"
      }
    },
    {
      "cell_type": "code",
      "source": [
        "periodos = ['2022-08-01','2022-08-02','2022-08-03']\n",
        "\n",
        "for periodo_str in periodos:\n",
        "\n",
        "  #Seleciona, dentre os dados tratados, somente os do período de interesse\n",
        "  dados_periodo = dados_ficticios[dados_ficticios['Data'] == periodo_str]\n",
        "\n",
        "  #Execução da função atualiza_sheets\n",
        "  atualiza_sheets('Exemplo atualiza_sheets','Dados_prévios',dados_periodo,'Data',periodo_str)"
      ],
      "metadata": {
        "id": "HFWnHnn5ZAYL"
      },
      "execution_count": null,
      "outputs": []
    }
  ]
}